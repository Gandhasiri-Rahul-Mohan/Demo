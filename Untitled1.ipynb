{
 "cells": [
  {
   "cell_type": "code",
   "execution_count": 1,
   "id": "3c5c4e0a",
   "metadata": {},
   "outputs": [],
   "source": [
    "import pandas as pd\n",
    "import numpy as np\n",
    "import matplotlib.pyplot as plt\n",
    "import seaborn as sns\n",
    "from sklearn.impute import KNNImputer\n",
    "from sklearn.model_selection import train_test_split\n",
    "import statsmodels.api as sm\n",
    "from sklearn.linear_model import LinearRegression\n",
    "from sklearn.metrics import mean_squared_error, r2_score\n",
    "import plotly.express as px"
   ]
  },
  {
   "cell_type": "code",
   "execution_count": 2,
   "id": "c9fd126c",
   "metadata": {},
   "outputs": [],
   "source": [
    "# Function to load data from Excel\n",
    "def load_data(file_path):\n",
    "    return pd.read_excel(file_path)\n"
   ]
  },
  {
   "cell_type": "code",
   "execution_count": 3,
   "id": "9559bab7",
   "metadata": {},
   "outputs": [],
   "source": [
    "# Function to perform initial data exploration\n",
    "def explore_data(df):\n",
    "    print(df.head())\n",
    "    print(df.tail())\n",
    "    print(df.info())\n",
    "    print(df.isnull().sum())"
   ]
  },
  {
   "cell_type": "code",
   "execution_count": 4,
   "id": "cadd0b15",
   "metadata": {},
   "outputs": [],
   "source": [
    "# Function to perform KNN imputation\n",
    "def knn_imputation(df, features):\n",
    "    imputer = KNNImputer(n_neighbors=5)\n",
    "    imputed_data = imputer.fit_transform(df[features])\n",
    "    df[features] = pd.DataFrame(imputed_data, columns=features)\n",
    "    return df"
   ]
  },
  {
   "cell_type": "code",
   "execution_count": 5,
   "id": "362432e8",
   "metadata": {},
   "outputs": [],
   "source": [
    "# Function to calculate and plot the correlation matrix\n",
    "def plot_correlation_matrix(df, features):\n",
    "    correlation_matrix = df[features].corr()\n",
    "    fig = plt.figure(figsize=(10, 8))\n",
    "    sns.heatmap(correlation_matrix, annot=True, cmap='coolwarm')\n",
    "    plt.show()\n"
   ]
  },
  {
   "cell_type": "code",
   "execution_count": 6,
   "id": "d6d47f37",
   "metadata": {},
   "outputs": [],
   "source": [
    "# Function to fit and summarize an OLS regression model\n",
    "def fit_ols_model(df, independent_vars, dependent_var):\n",
    "    X = df[independent_vars]\n",
    "    Y = df[dependent_var]\n",
    "    X = sm.add_constant(X)\n",
    "    model = sm.OLS(Y, X).fit()\n",
    "    print(model.summary())\n",
    "    return model\n"
   ]
  },
  {
   "cell_type": "code",
   "execution_count": 7,
   "id": "8d40a26c",
   "metadata": {},
   "outputs": [],
   "source": [
    "# Function to split the data and train the Linear Regression model\n",
    "def train_linear_model(df, independent_vars, dependent_var, test_size=0.15):\n",
    "    X = df[independent_vars]\n",
    "    Y = df[dependent_var]\n",
    "    X = sm.add_constant(X)\n",
    "    X_train, X_test, Y_train, Y_test = train_test_split(X, Y, test_size=test_size)\n",
    "    model = LinearRegression()\n",
    "    model.fit(X_train, Y_train)\n",
    "    y_pred = model.predict(X_test)\n",
    "    return Y_test, y_pred\n"
   ]
  },
  {
   "cell_type": "code",
   "execution_count": 8,
   "id": "8290f3b0",
   "metadata": {},
   "outputs": [],
   "source": [
    "# Function to evaluate the model\n",
    "def evaluate_model(Y_test, y_pred):\n",
    "    mse = mean_squared_error(Y_test, y_pred)\n",
    "    r2 = r2_score(Y_test, y_pred)\n",
    "    rmse = np.sqrt(mse).round(2)\n",
    "    print(f\"Mean Squared Error: {mse}\")\n",
    "    print(f\"R^2 Score: {r2}\")\n",
    "    print(f\"Root Mean Square Error: {rmse}\")\n",
    "    return mse, r2, rmse"
   ]
  },
  {
   "cell_type": "code",
   "execution_count": 16,
   "id": "d433f04c",
   "metadata": {},
   "outputs": [],
   "source": [
    "# Function to plot actual vs predicted values\n",
    "def plot_actual_vs_predicted(Y_test, y_pred):\n",
    "    fig = px.scatter(x=Y_test, y=y_pred, \n",
    "                     labels={'x': 'Actual Sale Count', 'y': 'Predicted Sale Count'}, \n",
    "                     title='Actual vs. Predicted Sale Count')\n",
    "    fig.add_shape(type='line',\n",
    "                  x0=Y_test.min(), y0=Y_test.min(),\n",
    "                  x1=Y_test.max(), y1=Y_test.max(),\n",
    "                  line=dict(color='Red', dash='dash'))\n",
    "    fig.show()"
   ]
  },
  {
   "cell_type": "code",
   "execution_count": 15,
   "id": "af09b009",
   "metadata": {},
   "outputs": [
    {
     "ename": "IndentationError",
     "evalue": "unindent does not match any outer indentation level (<tokenize>, line 25)",
     "output_type": "error",
     "traceback": [
      "\u001b[1;36m  File \u001b[1;32m<tokenize>:25\u001b[1;36m\u001b[0m\n\u001b[1;33m    main(\"Sample Data 1.xlsx\")\u001b[0m\n\u001b[1;37m    ^\u001b[0m\n\u001b[1;31mIndentationError\u001b[0m\u001b[1;31m:\u001b[0m unindent does not match any outer indentation level\n"
     ]
    }
   ],
   "source": [
    "# Main function to execute the workflow\n",
    "def main(file_path):\n",
    "    df = load_data(\"Sample Data 1.xlsx\")\n",
    "    explore_data(df)\n",
    "    \n",
    "    features_for_imputation = ['Supplier Discount (%)', 'Sale Count']\n",
    "    df = knn_imputation(df, features_for_imputation)\n",
    "    \n",
    "    features_for_correlation = ['Sale Count', 'Stock in Liters', 'Price (INR per Liter)', \n",
    "                                'Production Count', 'Supplier Discount (%)', 'Forex Rate (INR to USD)']\n",
    "    plot_correlation_matrix(df, features_for_correlation)\n",
    "    \n",
    "    independent_vars = df.columns.drop(['Date of Procurement', 'Production Count'])\n",
    "    dependent_var = 'Production Count'\n",
    "    \n",
    "    fit_ols_model(df, independent_vars, dependent_var)\n",
    "    \n",
    "    Y_test, y_pred = train_linear_model(df, independent_vars, dependent_var)\n",
    "    \n",
    "    evaluate_model(Y_test, y_pred)\n",
    "    \n",
    "    plot_actual_vs_predicted(Y_test, y_pred)\n",
    "\n",
    "# Run the main function\n",
    "# main(\"Sample Data 1.xlsx\")"
   ]
  },
  {
   "cell_type": "code",
   "execution_count": 13,
   "id": "a9262c2c",
   "metadata": {},
   "outputs": [
    {
     "ename": "NameError",
     "evalue": "name 'df' is not defined",
     "output_type": "error",
     "traceback": [
      "\u001b[1;31m---------------------------------------------------------------------------\u001b[0m",
      "\u001b[1;31mNameError\u001b[0m                                 Traceback (most recent call last)",
      "Cell \u001b[1;32mIn[13], line 1\u001b[0m\n\u001b[1;32m----> 1\u001b[0m fit_ols_model(df, independent_vars, dependent_var)\n",
      "\u001b[1;31mNameError\u001b[0m: name 'df' is not defined"
     ]
    }
   ],
   "source": [
    "fit_ols_model(df, independent_vars, dependent_var)"
   ]
  },
  {
   "cell_type": "code",
   "execution_count": null,
   "id": "1ef6ebd2",
   "metadata": {},
   "outputs": [],
   "source": []
  }
 ],
 "metadata": {
  "kernelspec": {
   "display_name": "Python 3 (ipykernel)",
   "language": "python",
   "name": "python3"
  },
  "language_info": {
   "codemirror_mode": {
    "name": "ipython",
    "version": 3
   },
   "file_extension": ".py",
   "mimetype": "text/x-python",
   "name": "python",
   "nbconvert_exporter": "python",
   "pygments_lexer": "ipython3",
   "version": "3.11.5"
  }
 },
 "nbformat": 4,
 "nbformat_minor": 5
}
