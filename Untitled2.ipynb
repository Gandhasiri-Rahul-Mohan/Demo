{
 "cells": [
  {
   "cell_type": "code",
   "execution_count": 4,
   "id": "4190fcf3",
   "metadata": {},
   "outputs": [
    {
     "data": {
      "text/plain": [
       "'Multiple_Patient_Interaction_Documentation.docx'"
      ]
     },
     "execution_count": 4,
     "metadata": {},
     "output_type": "execute_result"
    }
   ],
   "source": [
    "from docx import Document\n",
    "\n",
    "# Create a new Document\n",
    "doc = Document()\n",
    "\n",
    "# Title\n",
    "doc.add_heading('Patient Interaction Documentation', 0)\n",
    "\n",
    "# Add date and time\n",
    "doc.add_paragraph('Date: [Insert Date]')\n",
    "doc.add_paragraph('Time: [Insert Time]')\n",
    "\n",
    "# Add representative details\n",
    "doc.add_paragraph('Medical Representative: [Your Name]')\n",
    "doc.add_paragraph('')\n",
    "\n",
    "# Patient 1\n",
    "doc.add_heading('Patient 1: John Doe', level=2)\n",
    "conversation_1 = [\n",
    "    (\"Patient:\", \"Hello, this is John Doe. I wanted to discuss some side effects I've been experiencing with the medication I'm currently using.\"),\n",
    "    (\"Medical Representative:\", \"Hello, John. I'm sorry to hear that you're experiencing side effects. Can you please describe them for me?\"),\n",
    "    (\"Patient:\", \"I've been feeling dizzy and nauseous since I started taking Lisinopril. It's also causing me some headaches.\"),\n",
    "    (\"Medical Representative:\", \"Thank you for sharing that with me. Could you also tell me about the dosage you're currently taking?\"),\n",
    "    (\"Patient:\", \"I'm taking one tablet twice a day, as prescribed.\"),\n",
    "    (\"Medical Representative:\", \"Alright. Could you let me know the name of the medication and the drug involved?\"),\n",
    "    (\"Patient:\", \"The medication is Lisinopril, and the active ingredient is lisinopril.\"),\n",
    "    (\"Medical Representative:\", \"I also need to know your BMI and any other medications you're currently using.\"),\n",
    "    (\"Patient:\", \"My BMI is 27.5, and I'm also taking Metformin.\"),\n",
    "    (\"Medical Representative:\", \"Thank you. Could you let me know about your past medical history? Have you experienced anything similar with other medications before, or do you have any existing medical conditions?\"),\n",
    "    (\"Patient:\", \"I have a history of hypertension, and I used to take Atenolol without any issues. This is the first time I've had such side effects.\"),\n",
    "    (\"Medical Representative:\", \"I appreciate the information. Based on what you've told me, it might be related to the current medication, but I need to consult with your healthcare provider for further advice. In the meantime, I recommend monitoring your symptoms closely and discontinuing the medication if they worsen. Please contact your doctor as well.\"),\n",
    "    (\"Patient:\", \"Thank you. I'll do that and keep you updated.\"),\n",
    "    (\"Medical Representative:\", \"You're welcome, John. Please don't hesitate to reach out if you need anything else. Take care.\")\n",
    "]\n",
    "\n",
    "for role, text in conversation_1:\n",
    "    doc.add_paragraph(f'{role} {text}')\n",
    "\n",
    "# Patient 2\n",
    "doc.add_heading('Patient 2: Jane Smith', level=2)\n",
    "conversation_2 = [\n",
    "    (\"Patient:\", \"Hello, this is Jane Smith. I wanted to discuss some side effects I've been experiencing with the medication I'm currently using.\"),\n",
    "    (\"Medical Representative:\", \"Hello, Jane. I'm sorry to hear that you're experiencing side effects. Can you please describe them for me?\"),\n",
    "    (\"Patient:\", \"I've been feeling fatigued and have had some muscle pain since I started taking Atorvastatin.\"),\n",
    "    (\"Medical Representative:\", \"Thank you for sharing that with me. Could you also tell me about the dosage you're currently taking?\"),\n",
    "    (\"Patient:\", \"I'm taking one tablet once a day, as prescribed.\"),\n",
    "    (\"Medical Representative:\", \"Alright. Could you let me know the name of the medication and the drug involved?\"),\n",
    "    (\"Patient:\", \"The medication is Atorvastatin, and the active ingredient is atorvastatin.\"),\n",
    "    (\"Medical Representative:\", \"I also need to know your BMI and any other medications you're currently using.\"),\n",
    "    (\"Patient:\", \"My BMI is 24.3, and I'm also taking Levothyroxine.\"),\n",
    "    (\"Medical Representative:\", \"Thank you. Could you let me know about your past medical history? Have you experienced anything similar with other medications before, or do you have any existing medical conditions?\"),\n",
    "    (\"Patient:\", \"I have a history of hypothyroidism, and I used to take Simvastatin but switched to Atorvastatin recently.\"),\n",
    "    (\"Medical Representative:\", \"I appreciate the information. Based on what you've told me, it might be related to the current medication, but I need to consult with your healthcare provider for further advice. In the meantime, I recommend monitoring your symptoms closely and discontinuing the medication if they worsen. Please contact your doctor as well.\"),\n",
    "    (\"Patient:\", \"Thank you. I'll do that and keep you updated.\"),\n",
    "    (\"Medical Representative:\", \"You're welcome, Jane. Please don't hesitate to reach out if you need anything else. Take care.\")\n",
    "]\n",
    "\n",
    "for role, text in conversation_2:\n",
    "    doc.add_paragraph(f'{role} {text}')\n",
    "\n",
    "# Patient 3\n",
    "doc.add_heading('Patient 3: Michael Johnson', level=2)\n",
    "conversation_3 = [\n",
    "    (\"Patient:\", \"Hello, this is Michael Johnson. I wanted to discuss some side effects I've been experiencing with the medication I'm currently using.\"),\n",
    "    (\"Medical Representative:\", \"Hello, Michael. I'm sorry to hear that you're experiencing side effects. Can you please describe them for me?\"),\n",
    "    (\"Patient:\", \"I've been having trouble sleeping and experiencing some anxiety since I started taking Sertraline.\"),\n",
    "    (\"Medical Representative:\", \"Thank you for sharing that with me. Could you also tell me about the dosage you're currently taking?\"),\n",
    "    (\"Patient:\", \"I'm taking one tablet once a day, as prescribed.\"),\n",
    "    (\"Medical Representative:\", \"Alright. Could you let me know the name of the medication and the drug involved?\"),\n",
    "    (\"Patient:\", \"The medication is Sertraline, and the active ingredient is sertraline.\"),\n",
    "    (\"Medical Representative:\", \"I also need to know your BMI and any other medications you're currently using.\"),\n",
    "    (\"Patient:\", \"My BMI is 29.0, and I'm also taking Lisinopril.\"),\n",
    "    (\"Medical Representative:\", \"Thank you. Could you let me know about your past medical history? Have you experienced anything similar with other medications before, or do you have any existing medical conditions?\"),\n",
    "    (\"Patient:\", \"I have a history of anxiety, and I used to take Escitalopram but switched to Sertraline recently.\"),\n",
    "    (\"Medical Representative:\", \"I appreciate the information. Based on what you've told me, it might be related to the current medication, but I need to consult with your healthcare provider for further advice. In the meantime, I recommend monitoring your symptoms closely and discontinuing the medication if they worsen. Please contact your doctor as well.\"),\n",
    "    (\"Patient:\", \"Thank you. I'll do that and keep you updated.\"),\n",
    "    (\"Medical Representative:\", \"You're welcome, Michael. Please don't hesitate to reach out if you need anything else. Take care.\")\n",
    "]\n",
    "\n",
    "for role, text in conversation_3:\n",
    "    doc.add_paragraph(f'{role} {text}')\n",
    "\n",
    "# Additional notes section\n",
    "doc.add_heading('Additional Notes:', level=1)\n",
    "doc.add_paragraph('[Insert any additional observations, instructions, or follow-up actions here.]')\n",
    "\n",
    "doc.add_paragraph('')\n",
    "\n",
    "# Documented by\n",
    "doc.add_paragraph('Documented by: [Your Name]')\n",
    "doc.add_paragraph('[Your Contact Information]')\n",
    "\n",
    "# Save the document\n",
    "doc_path = \"Multiple_Patient_Interaction_Documentation.docx\"\n",
    "doc.save(doc_path)\n",
    "\n",
    "doc_path\n"
   ]
  },
  {
   "cell_type": "code",
   "execution_count": 3,
   "id": "ec366830",
   "metadata": {},
   "outputs": [
    {
     "name": "stdout",
     "output_type": "stream",
     "text": [
      "File not found at /path/to/missing_file.txt\n"
     ]
    }
   ],
   "source": [
    "import os\n",
    "\n",
    "file_path = \"\"\n",
    "\n",
    "if os.path.exists(file_path):\n",
    "\twith open(file_path, 'r') as file:\n",
    "\t\tcontent = file.read()\n",
    "\tprint(content)\n",
    "else:\n",
    "\tprint(f\"File not found at {file_path}\")\n"
   ]
  },
  {
   "cell_type": "code",
   "execution_count": null,
   "id": "7fd66cd4",
   "metadata": {},
   "outputs": [],
   "source": []
  }
 ],
 "metadata": {
  "kernelspec": {
   "display_name": "Python 3 (ipykernel)",
   "language": "python",
   "name": "python3"
  },
  "language_info": {
   "codemirror_mode": {
    "name": "ipython",
    "version": 3
   },
   "file_extension": ".py",
   "mimetype": "text/x-python",
   "name": "python",
   "nbconvert_exporter": "python",
   "pygments_lexer": "ipython3",
   "version": "3.11.5"
  }
 },
 "nbformat": 4,
 "nbformat_minor": 5
}
